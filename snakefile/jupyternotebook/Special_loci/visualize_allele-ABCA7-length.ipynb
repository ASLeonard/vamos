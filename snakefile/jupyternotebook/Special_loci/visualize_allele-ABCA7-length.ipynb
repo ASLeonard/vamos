{
 "cells": [
  {
   "cell_type": "code",
   "execution_count": 1,
   "id": "088edecd-2a7c-4187-87b2-51c84f726297",
   "metadata": {},
   "outputs": [],
   "source": [
    "#!~/.conda/envs/lra/bin/python3\n",
    "import os\n",
    "import sys\n",
    "import re\n",
    "import pandas as pd\n",
    "import seaborn as sns \n",
    "import matplotlib.pyplot as plt\n",
    "from collections import defaultdict \n",
    "import numpy as np\n",
    "# import UnionFind\n",
    "import edlib\n",
    "import multiprocessing \n",
    "import colorcet as cc\n",
    "import random"
   ]
  },
  {
   "cell_type": "code",
   "execution_count": 2,
   "id": "1a37854a-45d8-438c-bbf3-508d292622e5",
   "metadata": {},
   "outputs": [],
   "source": [
    "input_path = \"/project/mchaisso_100/cmb-16/jingwenr/trfCall/revision/special_loci\"\n",
    "delta_threshold= [\"original\", \"q-0.1\", \"q-0.2\"]\n",
    "\n",
    "assemblies = [file for file in os.listdir(\"/project/mchaisso_100/cmb-16/jingwenr/trfCall/revision/special_loci/anno_combined_subject10/original\") \\\n",
    "              if file.endswith(\".anno.vcf\") and \"_h\" in file ]\n",
    "assemblies = sorted(assemblies)\n",
    "VNTRs = [\"ABCA7\"]"
   ]
  },
  {
   "cell_type": "code",
   "execution_count": 3,
   "id": "360c48d1-8222-4de6-b9b9-170ee2a2f095",
   "metadata": {},
   "outputs": [
    {
     "data": {
      "text/plain": [
       "166"
      ]
     },
     "execution_count": 3,
     "metadata": {},
     "output_type": "execute_result"
    }
   ],
   "source": [
    "len(assemblies)"
   ]
  },
  {
   "cell_type": "code",
   "execution_count": 54,
   "id": "3d3e49af-876b-43ad-9f8c-8c5e3a3913e3",
   "metadata": {
    "tags": []
   },
   "outputs": [],
   "source": [
    "class Allele:\n",
    "    def __init__ (self, VNTR_locus):\n",
    "        self.vntr2anno = defaultdict(lambda: defaultdict(lambda: defaultdict(list))) # vntr -> delta -> assembly -> annos\n",
    "        self.vntr_space = defaultdict(lambda: defaultdict(int)) # vntr -> delta -> 0 / 1 means: the color space \n",
    "        \n",
    "        # read in original motif\n",
    "        self.original_motif_map = defaultdict(lambda: defaultdict(int)) # vntr -> original motif -> index\n",
    "        omotif_file = f\"{input_path}/{VNTR_locus}/original/vntr_motif.bed\"\n",
    "        with open(omotif_file, 'r') as f:\n",
    "            lines = f.readlines()\n",
    "            for idx, line in enumerate(lines):\n",
    "                fields = re.split('\\t', line.strip('\\n'))\n",
    "                chrm = fields[0]\n",
    "                start = fields[1]\n",
    "                end = fields[2]\n",
    "                motifs = re.split(\",\", fields[3])\n",
    "                vntr = chrm + \":\" + start + \"-\" + end\n",
    "                cnt = 0\n",
    "                for motif in motifs:\n",
    "                    self.original_motif_map[vntr][motif] = cnt\n",
    "                    cnt += 1\n",
    "                    \n",
    "        self.readVcfAnnotation(VNTR_locus) \n",
    "#         self.appendLength()\n",
    "        self.plot_path = f\"{input_path}/plot/{VNTR_locus}\" \n",
    "        \n",
    "\n",
    "    def readVcfAnnotation (self, VNTR_locus):\n",
    "        \"\"\"\n",
    "        read the assembly vcf annotations\n",
    "        \"\"\"\n",
    "        for asm in assemblies:\n",
    "#             if asm.startswith(\"HG00733\") or asm.startswith(\"NA19240\") or asm.startswith(\"HG00514\"): continue\n",
    "            for delta in delta_threshold:\n",
    "                \n",
    "                file = f\"{input_path}/{VNTR_locus}/{delta}/{asm}\"\n",
    "                with open(file, 'r') as f:\n",
    "                    lines = f.readlines()\n",
    "                    for idx, line in enumerate(lines):\n",
    "                        if line.startswith(\"#\"):\n",
    "                            continue\n",
    "                        fields = re.split('\\t', line.strip('\\n'))\n",
    "                        chrm = fields[0]\n",
    "                        start = fields[1]\n",
    "                        infos = re.split(\";\", fields[7])\n",
    "                        end = re.split(\"=\", infos[0])[1]\n",
    "                        anno = re.split(\"=\", infos[3])[1]\n",
    "                        p_anno = [int(motif) for motif in re.split(\",\", anno)]\n",
    "                        emotifs = re.split(\"=\", infos[1])[1]\n",
    "                        p_emotifs = re.split(\",\",emotifs)\n",
    "                        vntr = chrm + \":\" + start + \"-\" + end\n",
    "                        self.vntr2anno[vntr][delta][asm] = [self.original_motif_map[vntr][p_emotifs[idx]] for idx in p_anno]\n",
    "#                         self.vntr2anno[vntr][delta][asm] = p_anno\n",
    "\n",
    "#         for vntr in self.vntr2anno:\n",
    "#             for delta in self.vntr2anno[vntr]:\n",
    "#                 self.vntr2anno[vntr][delta] = {k: v for k, v in sorted(self.vntr2anno[vntr][delta].items(), key=lambda item: len(item[1]), reverse=True)}\n",
    "\n",
    "\n",
    "    def appendLength(self):\n",
    "        \"\"\"\n",
    "        make annotation the same length per VNTR\n",
    "        \"\"\"\n",
    "        for vntr in self.vntr2anno.keys():\n",
    "            for delta in self.vntr2anno[vntr].keys():\n",
    "                self.vntr_space[vntr][delta] = 0\n",
    "                max_length = 0\n",
    "                max_motif = -1\n",
    "                for asm in self.vntr2anno[vntr][delta].keys():\n",
    "                    max_length = max(max_length, len(self.vntr2anno[vntr][delta][asm]))\n",
    "                    max_motif = max(max_motif, max(self.vntr2anno[vntr][delta][asm]))\n",
    "                max_length += 1\n",
    "                max_motif += 1\n",
    "\n",
    "                for asm in self.vntr2anno[vntr][delta].keys():\n",
    "                    if len(self.vntr2anno[vntr][delta][asm]) < max_length:\n",
    "                        self.vntr2anno[vntr][delta][asm].extend([480] * (max_length - len(self.vntr2anno[vntr][delta][asm])))   \n",
    "                        self.vntr_space[vntr][delta] = 1                    \n",
    "\n",
    "                    \n",
    "    \"\"\"\n",
    "    heatmap for one VNTR\n",
    "    \"\"\"\n",
    "    def heatmap(self, vntr, delta):\n",
    "#         print(self.vntr2anno)\n",
    "        asms = list(self.vntr2anno[vntr][delta].keys())\n",
    "        data_anno = [self.vntr2anno[vntr][delta][asm] for asm in asms]\n",
    "        np_annp = np.array(data_anno)\n",
    "        max_motif = max([max(self.vntr2anno[vntr][delta][asm]) for asm in asms])\n",
    "        cmap = sns.color_palette(cc.glasbey_light, max_motif - 1)\n",
    "        cmap.append((1,1,1)) \n",
    "\n",
    "\n",
    "        print(max_motif, len(cmap))\n",
    "        # the index of the position of yticks\n",
    "        num_ticks = len(asms)\n",
    "        yticks = np.linspace(0, len(asms) - 1, num_ticks, dtype=np.int)\n",
    "        yticklabels = [asms[idx] for idx in yticks]\n",
    "        \n",
    "\n",
    "        plt.figure(figsize=(12, 8))\n",
    "#         ax = sns.heatmap(np_annp, cmap=cmap)\n",
    "        ax = sns.heatmap(np_annp, cmap=cmap, yticklabels=yticklabels)\n",
    "        ax.set_yticklabels(yticklabels, rotation=0, fontsize=\"5\")\n",
    "        if delta.startswith('q'):\n",
    "            tmp = delta.split('-')[1]\n",
    "            plt.title(f\"q = {tmp}\", fontsize=22)\n",
    "        else:\n",
    "            plt.title(f\"q = 0 (no compression)\", fontsize=22)\n",
    "#         plt.savefig(self.plot_path + \"/allele.q_\" + delta + \".png\", dpi=300, format=\"png\")\n",
    "        plt.show()\n",
    "        plt.close()\n"
   ]
  },
  {
   "cell_type": "code",
   "execution_count": 55,
   "id": "f50be233-c7e7-421c-acf3-fc5b6792129f",
   "metadata": {
    "tags": []
   },
   "outputs": [],
   "source": [
    "VNTR_locus = VNTRs[0]\n",
    "allele = Allele(VNTR_locus)\n",
    "vntrs = list(allele.vntr2anno.keys())\n",
    "vntrs.sort()"
   ]
  },
  {
   "cell_type": "code",
   "execution_count": 64,
   "id": "1557d59e-8275-498e-bbb4-fa35ef1b9c4a",
   "metadata": {},
   "outputs": [],
   "source": [
    "allele_length = {'asm': [], 'compression': [], 'length': [], 'group': []}\n",
    "vntr = 'chr19:1049437-1050066'\n",
    "for compression in ['original']:\n",
    "    for asm in assemblies:\n",
    "        length = len(allele.vntr2anno[vntr][compression][asm])\n",
    "        if length == 0: continue\n",
    "        allele_length['asm'].append(asm) \n",
    "        allele_length['compression'].append(compression)\n",
    "        allele_length['length'].append(length) \n",
    "        if 'Sub' in asm:\n",
    "            allele_length['group'].append('Subject02-Subject10')\n",
    "        else:\n",
    "            allele_length['group'].append('control')\n",
    "    "
   ]
  },
  {
   "cell_type": "code",
   "execution_count": 65,
   "id": "0687f197-b0dd-4b37-9467-acb3dfaf62f8",
   "metadata": {
    "tags": []
   },
   "outputs": [],
   "source": [
    "df = pd.DataFrame.from_dict(allele_length)\n",
    "pd.set_option('display.max_rows', None)\n"
   ]
  },
  {
   "cell_type": "code",
   "execution_count": 66,
   "id": "0dd577e9-3b0c-40c3-8dff-bc50410ba676",
   "metadata": {
    "tags": []
   },
   "outputs": [],
   "source": [
    "# print(df)"
   ]
  },
  {
   "cell_type": "code",
   "execution_count": 67,
   "id": "072972cd-cb45-4bc3-ba00-611fa7b3630c",
   "metadata": {},
   "outputs": [
    {
     "data": {
      "image/png": "[encoded data removed]",
      "text/plain": [
       "<Figure size 864x576 with 2 Axes>"
      ]
     },
     "metadata": {
      "needs_background": "light"
     },
     "output_type": "display_data"
    }
   ],
   "source": [
    "ax = df['length'].hist(by=df['group'], bins=15, grid=False, figsize=(12,8))\n",
    "[x.title.set_size(22) for x in ax.ravel()]\n",
    "\n",
    "for x in ax:\n",
    "\n",
    "#     x.set_title()\n",
    "\n",
    "    # Set x-axis label\n",
    "    x.set_xlabel(\"Number of repeat motifs\", labelpad=20, size=22)\n",
    "\n",
    "    # Set y-axis label\n",
    "    x.set_ylabel(\"Frequency\", labelpad=22, size=22)\n",
    "plt.savefig(f\"{input_path}/plot/ABCA7/allele_length.q_original.pdf\", dpi=300, format=\"pdf\")"
   ]
  },
  {
   "cell_type": "code",
   "execution_count": 32,
   "id": "26dc007a-c911-4e9f-a2b7-a60b0153b136",
   "metadata": {},
   "outputs": [
    {
     "data": {
      "text/plain": [
       "Ttest_indResult(statistic=-1.6011216161182595, pvalue=0.11285442882681702)"
      ]
     },
     "execution_count": 32,
     "metadata": {},
     "output_type": "execute_result"
    }
   ],
   "source": [
    "#define samples\n",
    "group1 = df[df['group']=='normal']\n",
    "group2 = df[df['group']=='disease']\n",
    "\n",
    "from scipy.stats import ttest_ind\n",
    "#perform independent two sample t-test\n",
    "ttest_ind(group1['length'], group2['length'])"
   ]
  },
  {
   "cell_type": "code",
   "execution_count": 11,
   "id": "4437153a-cc6a-49ff-89c7-50d8acd7576e",
   "metadata": {},
   "outputs": [],
   "source": [
    "allele_length = {'asm': [], 'compression': [], 'length': [], 'group': []}\n",
    "vntr = 'chr19:1049437-1050066'\n",
    "for compression in ['q-0.1']:\n",
    "    for asm in assemblies:\n",
    "        length = len(allele.vntr2anno[vntr][compression][asm])\n",
    "        allele_length['asm'].append(asm) \n",
    "        allele_length['compression'].append(compression)\n",
    "        allele_length['length'].append(length) \n",
    "        if 'Sub' in asm:\n",
    "            allele_length['group'].append('disease')\n",
    "        else:\n",
    "            allele_length['group'].append('normal')\n",
    "df = pd.DataFrame.from_dict(allele_length)"
   ]
  },
  {
   "cell_type": "code",
   "execution_count": 23,
   "id": "8d378104-2683-4dac-a087-6e1b443638d0",
   "metadata": {},
   "outputs": [
    {
     "data": {
      "text/plain": [
       "array([<AxesSubplot:title={'center':'disease'}>,\n",
       "       <AxesSubplot:title={'center':'normal'}>], dtype=object)"
      ]
     },
     "execution_count": 23,
     "metadata": {},
     "output_type": "execute_result"
    },
    {
     "data": {
      "image/png": "[encoded data removed]",
      "text/plain": [
       "<Figure size 432x288 with 2 Axes>"
      ]
     },
     "metadata": {
      "needs_background": "light"
     },
     "output_type": "display_data"
    }
   ],
   "source": [
    "df['length'].hist(by=df['group'])"
   ]
  },
  {
   "cell_type": "code",
   "execution_count": 24,
   "id": "73fc8610-2449-4711-b91a-e5f0ff6b14e4",
   "metadata": {},
   "outputs": [],
   "source": [
    "allele_length = {'asm': [], 'compression': [], 'length': [], 'group': []}\n",
    "vntr = 'chr19:1049437-1050066'\n",
    "for compression in ['q-0.2']:\n",
    "    for asm in assemblies:\n",
    "        length = len(allele.vntr2anno[vntr][compression][asm])\n",
    "        if length == 0: continue \n",
    "        allele_length['asm'].append(asm) \n",
    "        allele_length['compression'].append(compression)\n",
    "        allele_length['length'].append(length) \n",
    "        if 'Sub' in asm:\n",
    "            allele_length['group'].append('disease')\n",
    "        else:\n",
    "            allele_length['group'].append('normal')\n",
    "df = pd.DataFrame.from_dict(allele_length)"
   ]
  },
  {
   "cell_type": "code",
   "execution_count": 25,
   "id": "a26a5063-f7f5-41e4-a1f9-52e6221b71b7",
   "metadata": {},
   "outputs": [
    {
     "data": {
      "text/plain": [
       "array([<AxesSubplot:title={'center':'disease'}>,\n",
       "       <AxesSubplot:title={'center':'normal'}>], dtype=object)"
      ]
     },
     "execution_count": 25,
     "metadata": {},
     "output_type": "execute_result"
    },
    {
     "data": {
      "image/png": "[encoded data removed]",
      "text/plain": [
       "<Figure size 432x288 with 2 Axes>"
      ]
     },
     "metadata": {
      "needs_background": "light"
     },
     "output_type": "display_data"
    }
   ],
   "source": [
    "df['length'].hist(by=df['group'])"
   ]
  }
 ],
 "metadata": {
  "kernelspec": {
   "display_name": "Python 3",
   "language": "python",
   "name": "python3"
  },
  "language_info": {
   "codemirror_mode": {
    "name": "ipython",
    "version": 3
   },
   "file_extension": ".py",
   "mimetype": "text/x-python",
   "name": "python",
   "nbconvert_exporter": "python",
   "pygments_lexer": "ipython3",
   "version": "3.7.10"
  }
 },
 "nbformat": 4,
 "nbformat_minor": 5
}
