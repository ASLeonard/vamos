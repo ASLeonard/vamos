{
 "cells": [
  {
   "cell_type": "code",
   "execution_count": 3,
   "id": "34b7fafd-d8ea-476c-9f5b-9d99a8998294",
   "metadata": {},
   "outputs": [],
   "source": [
    "#!~/.conda/envs/lra/bin/python3\n",
    "import os\n",
    "import sys\n",
    "import re\n",
    "import pandas as pd\n",
    "import seaborn as sns \n",
    "import matplotlib.pyplot as plt\n",
    "from collections import defaultdict \n",
    "import numpy as np"
   ]
  },
  {
   "cell_type": "code",
   "execution_count": 4,
   "id": "79ceb5b5-a40a-4d78-b308-1e7d419e559e",
   "metadata": {},
   "outputs": [],
   "source": [
    "# read in vntr, efficient motifs, original motifs, counts, for different deltas\n",
    "\n",
    "vntr2emotifs = defaultdict(lambda: defaultdict(list)) # delta -> vntr -> (motif, cnt)\n",
    "vntr2omotifs = defaultdict(lambda: defaultdict(list)) \n",
    "vntr2gdmotifs = defaultdict(lambda: defaultdict(list))\n",
    "\n",
    "# input_path = \"/project/mchaisso_100/cmb-16/jingwenr/trfCall/emotifs/hgsvc_2022-06-25_delta_3/\"\n",
    "input_path = \"/project/mchaisso_100/cmb-16/jingwenr/trfCall/revision/vntr_motif_database\""
   ]
  },
  {
   "cell_type": "code",
   "execution_count": 9,
   "id": "517634fd-d3fa-4277-b701-5da90e0ff4ff",
   "metadata": {},
   "outputs": [],
   "source": [
    "delta_threshold = [\"q-0.1\"]\n",
    "genomesize = \"148\"\n",
    "\n",
    "\n",
    "for delta in delta_threshold:\n",
    "    \n",
    "    in_file = f\"{input_path}/out-{genomesize}/{delta}_adjusted/emotifs.tsv\"\n",
    "    out_file = f\"{input_path}/out-{genomesize}/{delta}_adjusted/greedy_emotifs.bed\"   \n",
    "\n",
    "    with open(in_file, 'r') as fin, open(out_file, 'w') as fout:\n",
    "        lines = fin.readlines()\n",
    "        for idx, line in enumerate(lines):\n",
    "            if line.startswith(\"coordinate\"):\n",
    "                continue\n",
    "#             if idx > 100: break\n",
    "            fields = re.split('\\t', line.strip('\\n'))\n",
    "            status = fields[11]\n",
    "#             if status == \"INFEASIBLE\":\n",
    "#                 continue\n",
    "            vntr = fields[0]\n",
    "            omotifs = re.split(\",\", fields[1])\n",
    "            emotifs = re.split(\",\", fields[6])\n",
    "            ocnt = [int(cnt) for cnt in re.split(\",\", fields[10])]\n",
    "            ecnt = [int(cnt) for cnt in re.split(\",\", fields[7])]\n",
    "            vntr2emotifs[delta][vntr] = list(zip(emotifs, ecnt))\n",
    "            vntr2omotifs['0'][vntr] = list(zip(omotifs, ocnt))\n",
    "            \n",
    "            sz = len(emotifs)\n",
    "            vntr2gdmotifs[delta][vntr] = omotifs[:sz]\n",
    "            \n",
    "            chrom, start, end = re.split(\"_|-\", vntr)\n",
    "            gdmotifs_list = ','.join(vntr2gdmotifs[delta][vntr])\n",
    "            fout.write('\\t'.join([chrom, start, end, gdmotifs_list]) + \"\\n\")\n"
   ]
  }
 ],
 "metadata": {
  "kernelspec": {
   "display_name": "Python 3",
   "language": "python",
   "name": "python3"
  },
  "language_info": {
   "codemirror_mode": {
    "name": "ipython",
    "version": 3
   },
   "file_extension": ".py",
   "mimetype": "text/x-python",
   "name": "python",
   "nbconvert_exporter": "python",
   "pygments_lexer": "ipython3",
   "version": "3.7.10"
  }
 },
 "nbformat": 4,
 "nbformat_minor": 5
}
