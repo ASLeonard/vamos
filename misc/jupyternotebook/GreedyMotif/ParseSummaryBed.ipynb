{
 "cells": [
  {
   "cell_type": "code",
   "execution_count": 153,
   "id": "6e8b5470-e5e8-4d1f-8ed4-4260f150c4bc",
   "metadata": {},
   "outputs": [],
   "source": [
    "#!~/.conda/envs/lra/bin/python3\n",
    "import os\n",
    "import sys\n",
    "import re\n",
    "import pandas as pd\n",
    "import seaborn as sns \n",
    "import matplotlib.pyplot as plt\n",
    "from collections import defaultdict \n",
    "import numpy as np"
   ]
  },
  {
   "cell_type": "code",
   "execution_count": 154,
   "id": "425e262f-0b6f-40b5-9c10-e18269c86a54",
   "metadata": {},
   "outputs": [],
   "source": [
    "file = '/project/mchaisso_100/cmb-16/jingwenr/trfCall/revision/greedy_comparison/summary/q-0.1/q-0.1_5_compare_stats_summary.bed'"
   ]
  },
  {
   "cell_type": "code",
   "execution_count": 155,
   "id": "b5d49a04-a00d-4e4b-ad3b-d49c4200f114",
   "metadata": {},
   "outputs": [],
   "source": [
    "summary = {'asm_sample': [], \\\n",
    "           'annotated_vntrs': [], \\\n",
    "          'vamos_better': [], \\\n",
    "          'vamos_better20': [], \\\n",
    "          'greedy_better': [], \\\n",
    "          'greedy_better20': []}\n"
   ]
  },
  {
   "cell_type": "code",
   "execution_count": 156,
   "id": "bed68060-fe90-47c8-adc5-70224ab8e9d9",
   "metadata": {},
   "outputs": [],
   "source": [
    "with open(file, 'r') as fin:\n",
    "    lines = fin.readlines()\n",
    "    for line in lines:\n",
    "        line = line.rstrip('\\n')\n",
    "        fields = line.split('\\t')\n",
    "        asm_sample = fields[0]\n",
    "        annotated_vntrs, vamos_better, vamos_better20, greedy_better, greedy_better20 = [int(i) for i in fields[1:]]\n",
    "        \n",
    "        summary['asm_sample'].append(asm_sample)\n",
    "        summary['annotated_vntrs'].append(annotated_vntrs)\n",
    "        summary['vamos_better'].append(vamos_better)\n",
    "        summary['vamos_better20'].append(vamos_better10)\n",
    "        summary['greedy_better'].append(greedy_better)    \n",
    "        summary['greedy_better20'].append(greedy_better10)        "
   ]
  },
  {
   "cell_type": "code",
   "execution_count": 157,
   "id": "6e96658b-3f03-4f51-860e-7efc47c78a2a",
   "metadata": {},
   "outputs": [],
   "source": [
    "df = pd.DataFrame.from_dict(summary)"
   ]
  },
  {
   "cell_type": "code",
   "execution_count": 158,
   "id": "fe807765-6638-409a-959f-7dc2d8da4a47",
   "metadata": {},
   "outputs": [
    {
     "data": {
      "text/html": [
       "<div>\n",
       "<style scoped>\n",
       "    .dataframe tbody tr th:only-of-type {\n",
       "        vertical-align: middle;\n",
       "    }\n",
       "\n",
       "    .dataframe tbody tr th {\n",
       "        vertical-align: top;\n",
       "    }\n",
       "\n",
       "    .dataframe thead th {\n",
       "        text-align: right;\n",
       "    }\n",
       "</style>\n",
       "<table border=\"1\" class=\"dataframe\">\n",
       "  <thead>\n",
       "    <tr style=\"text-align: right;\">\n",
       "      <th></th>\n",
       "      <th>asm_sample</th>\n",
       "      <th>annotated_vntrs</th>\n",
       "      <th>vamos_better</th>\n",
       "      <th>vamos_better20</th>\n",
       "      <th>greedy_better</th>\n",
       "      <th>greedy_better20</th>\n",
       "    </tr>\n",
       "  </thead>\n",
       "  <tbody>\n",
       "    <tr>\n",
       "      <th>0</th>\n",
       "      <td>HG02080_hprc_h2</td>\n",
       "      <td>131825</td>\n",
       "      <td>15464</td>\n",
       "      <td>8097</td>\n",
       "      <td>13680</td>\n",
       "      <td>6308</td>\n",
       "    </tr>\n",
       "    <tr>\n",
       "      <th>1</th>\n",
       "      <td>HG01361_hprc_h2</td>\n",
       "      <td>128225</td>\n",
       "      <td>14977</td>\n",
       "      <td>8097</td>\n",
       "      <td>13317</td>\n",
       "      <td>6308</td>\n",
       "    </tr>\n",
       "    <tr>\n",
       "      <th>2</th>\n",
       "      <td>NA20129_hprc_h1</td>\n",
       "      <td>130946</td>\n",
       "      <td>15329</td>\n",
       "      <td>8097</td>\n",
       "      <td>13565</td>\n",
       "      <td>6308</td>\n",
       "    </tr>\n",
       "    <tr>\n",
       "      <th>3</th>\n",
       "      <td>HG02486_hprc_h1</td>\n",
       "      <td>130300</td>\n",
       "      <td>15309</td>\n",
       "      <td>8097</td>\n",
       "      <td>13611</td>\n",
       "      <td>6308</td>\n",
       "    </tr>\n",
       "    <tr>\n",
       "      <th>4</th>\n",
       "      <td>HG02587_hgsvc_h2</td>\n",
       "      <td>126819</td>\n",
       "      <td>14914</td>\n",
       "      <td>8097</td>\n",
       "      <td>13361</td>\n",
       "      <td>6308</td>\n",
       "    </tr>\n",
       "    <tr>\n",
       "      <th>...</th>\n",
       "      <td>...</td>\n",
       "      <td>...</td>\n",
       "      <td>...</td>\n",
       "      <td>...</td>\n",
       "      <td>...</td>\n",
       "      <td>...</td>\n",
       "    </tr>\n",
       "    <tr>\n",
       "      <th>143</th>\n",
       "      <td>HG02572_hprc_h2</td>\n",
       "      <td>124641</td>\n",
       "      <td>14532</td>\n",
       "      <td>8097</td>\n",
       "      <td>12993</td>\n",
       "      <td>6308</td>\n",
       "    </tr>\n",
       "    <tr>\n",
       "      <th>144</th>\n",
       "      <td>HG01361_hprc_h1</td>\n",
       "      <td>129433</td>\n",
       "      <td>15166</td>\n",
       "      <td>8097</td>\n",
       "      <td>13367</td>\n",
       "      <td>6308</td>\n",
       "    </tr>\n",
       "    <tr>\n",
       "      <th>145</th>\n",
       "      <td>HG02080_hprc_h1</td>\n",
       "      <td>131764</td>\n",
       "      <td>15474</td>\n",
       "      <td>8097</td>\n",
       "      <td>13687</td>\n",
       "      <td>6308</td>\n",
       "    </tr>\n",
       "    <tr>\n",
       "      <th>146</th>\n",
       "      <td>NA20129_hprc_h2</td>\n",
       "      <td>131247</td>\n",
       "      <td>15440</td>\n",
       "      <td>8097</td>\n",
       "      <td>13686</td>\n",
       "      <td>6308</td>\n",
       "    </tr>\n",
       "    <tr>\n",
       "      <th>147</th>\n",
       "      <td>HG02486_hprc_h2</td>\n",
       "      <td>125459</td>\n",
       "      <td>14671</td>\n",
       "      <td>8097</td>\n",
       "      <td>13117</td>\n",
       "      <td>6308</td>\n",
       "    </tr>\n",
       "  </tbody>\n",
       "</table>\n",
       "<p>148 rows × 6 columns</p>\n",
       "</div>"
      ],
      "text/plain": [
       "           asm_sample  annotated_vntrs  vamos_better  vamos_better20  \\\n",
       "0     HG02080_hprc_h2           131825         15464            8097   \n",
       "1     HG01361_hprc_h2           128225         14977            8097   \n",
       "2     NA20129_hprc_h1           130946         15329            8097   \n",
       "3     HG02486_hprc_h1           130300         15309            8097   \n",
       "4    HG02587_hgsvc_h2           126819         14914            8097   \n",
       "..                ...              ...           ...             ...   \n",
       "143   HG02572_hprc_h2           124641         14532            8097   \n",
       "144   HG01361_hprc_h1           129433         15166            8097   \n",
       "145   HG02080_hprc_h1           131764         15474            8097   \n",
       "146   NA20129_hprc_h2           131247         15440            8097   \n",
       "147   HG02486_hprc_h2           125459         14671            8097   \n",
       "\n",
       "     greedy_better  greedy_better20  \n",
       "0            13680             6308  \n",
       "1            13317             6308  \n",
       "2            13565             6308  \n",
       "3            13611             6308  \n",
       "4            13361             6308  \n",
       "..             ...              ...  \n",
       "143          12993             6308  \n",
       "144          13367             6308  \n",
       "145          13687             6308  \n",
       "146          13686             6308  \n",
       "147          13117             6308  \n",
       "\n",
       "[148 rows x 6 columns]"
      ]
     },
     "execution_count": 158,
     "metadata": {},
     "output_type": "execute_result"
    }
   ],
   "source": [
    "df"
   ]
  },
  {
   "cell_type": "code",
   "execution_count": 159,
   "id": "fff99234-4991-4482-8a48-bdf0c1462932",
   "metadata": {},
   "outputs": [],
   "source": [
    "df['vamos_better20_ratio'] = df['vamos_better20'] / df['annotated_vntrs']"
   ]
  },
  {
   "cell_type": "code",
   "execution_count": 160,
   "id": "021d5ba0-818d-4990-b205-4a2d3497140b",
   "metadata": {},
   "outputs": [],
   "source": [
    "df['greedy_better20_ratio'] = df['greedy_better20'] / df['annotated_vntrs']"
   ]
  },
  {
   "cell_type": "code",
   "execution_count": 161,
   "id": "97ed55d0-8c15-4cf4-bd69-9988d66fd8ec",
   "metadata": {},
   "outputs": [
    {
     "data": {
      "text/html": [
       "<div>\n",
       "<style scoped>\n",
       "    .dataframe tbody tr th:only-of-type {\n",
       "        vertical-align: middle;\n",
       "    }\n",
       "\n",
       "    .dataframe tbody tr th {\n",
       "        vertical-align: top;\n",
       "    }\n",
       "\n",
       "    .dataframe thead th {\n",
       "        text-align: right;\n",
       "    }\n",
       "</style>\n",
       "<table border=\"1\" class=\"dataframe\">\n",
       "  <thead>\n",
       "    <tr style=\"text-align: right;\">\n",
       "      <th></th>\n",
       "      <th>asm_sample</th>\n",
       "      <th>annotated_vntrs</th>\n",
       "      <th>vamos_better</th>\n",
       "      <th>vamos_better20</th>\n",
       "      <th>greedy_better</th>\n",
       "      <th>greedy_better20</th>\n",
       "      <th>vamos_better20_ratio</th>\n",
       "      <th>greedy_better20_ratio</th>\n",
       "    </tr>\n",
       "  </thead>\n",
       "  <tbody>\n",
       "    <tr>\n",
       "      <th>0</th>\n",
       "      <td>HG02080_hprc_h2</td>\n",
       "      <td>131825</td>\n",
       "      <td>15464</td>\n",
       "      <td>8097</td>\n",
       "      <td>13680</td>\n",
       "      <td>6308</td>\n",
       "      <td>0.061422</td>\n",
       "      <td>0.047851</td>\n",
       "    </tr>\n",
       "    <tr>\n",
       "      <th>1</th>\n",
       "      <td>HG01361_hprc_h2</td>\n",
       "      <td>128225</td>\n",
       "      <td>14977</td>\n",
       "      <td>8097</td>\n",
       "      <td>13317</td>\n",
       "      <td>6308</td>\n",
       "      <td>0.063147</td>\n",
       "      <td>0.049195</td>\n",
       "    </tr>\n",
       "    <tr>\n",
       "      <th>2</th>\n",
       "      <td>NA20129_hprc_h1</td>\n",
       "      <td>130946</td>\n",
       "      <td>15329</td>\n",
       "      <td>8097</td>\n",
       "      <td>13565</td>\n",
       "      <td>6308</td>\n",
       "      <td>0.061835</td>\n",
       "      <td>0.048173</td>\n",
       "    </tr>\n",
       "    <tr>\n",
       "      <th>3</th>\n",
       "      <td>HG02486_hprc_h1</td>\n",
       "      <td>130300</td>\n",
       "      <td>15309</td>\n",
       "      <td>8097</td>\n",
       "      <td>13611</td>\n",
       "      <td>6308</td>\n",
       "      <td>0.062141</td>\n",
       "      <td>0.048411</td>\n",
       "    </tr>\n",
       "    <tr>\n",
       "      <th>4</th>\n",
       "      <td>HG02587_hgsvc_h2</td>\n",
       "      <td>126819</td>\n",
       "      <td>14914</td>\n",
       "      <td>8097</td>\n",
       "      <td>13361</td>\n",
       "      <td>6308</td>\n",
       "      <td>0.063847</td>\n",
       "      <td>0.049740</td>\n",
       "    </tr>\n",
       "    <tr>\n",
       "      <th>...</th>\n",
       "      <td>...</td>\n",
       "      <td>...</td>\n",
       "      <td>...</td>\n",
       "      <td>...</td>\n",
       "      <td>...</td>\n",
       "      <td>...</td>\n",
       "      <td>...</td>\n",
       "      <td>...</td>\n",
       "    </tr>\n",
       "    <tr>\n",
       "      <th>143</th>\n",
       "      <td>HG02572_hprc_h2</td>\n",
       "      <td>124641</td>\n",
       "      <td>14532</td>\n",
       "      <td>8097</td>\n",
       "      <td>12993</td>\n",
       "      <td>6308</td>\n",
       "      <td>0.064963</td>\n",
       "      <td>0.050609</td>\n",
       "    </tr>\n",
       "    <tr>\n",
       "      <th>144</th>\n",
       "      <td>HG01361_hprc_h1</td>\n",
       "      <td>129433</td>\n",
       "      <td>15166</td>\n",
       "      <td>8097</td>\n",
       "      <td>13367</td>\n",
       "      <td>6308</td>\n",
       "      <td>0.062557</td>\n",
       "      <td>0.048736</td>\n",
       "    </tr>\n",
       "    <tr>\n",
       "      <th>145</th>\n",
       "      <td>HG02080_hprc_h1</td>\n",
       "      <td>131764</td>\n",
       "      <td>15474</td>\n",
       "      <td>8097</td>\n",
       "      <td>13687</td>\n",
       "      <td>6308</td>\n",
       "      <td>0.061451</td>\n",
       "      <td>0.047873</td>\n",
       "    </tr>\n",
       "    <tr>\n",
       "      <th>146</th>\n",
       "      <td>NA20129_hprc_h2</td>\n",
       "      <td>131247</td>\n",
       "      <td>15440</td>\n",
       "      <td>8097</td>\n",
       "      <td>13686</td>\n",
       "      <td>6308</td>\n",
       "      <td>0.061693</td>\n",
       "      <td>0.048062</td>\n",
       "    </tr>\n",
       "    <tr>\n",
       "      <th>147</th>\n",
       "      <td>HG02486_hprc_h2</td>\n",
       "      <td>125459</td>\n",
       "      <td>14671</td>\n",
       "      <td>8097</td>\n",
       "      <td>13117</td>\n",
       "      <td>6308</td>\n",
       "      <td>0.064539</td>\n",
       "      <td>0.050279</td>\n",
       "    </tr>\n",
       "  </tbody>\n",
       "</table>\n",
       "<p>148 rows × 8 columns</p>\n",
       "</div>"
      ],
      "text/plain": [
       "           asm_sample  annotated_vntrs  vamos_better  vamos_better20  \\\n",
       "0     HG02080_hprc_h2           131825         15464            8097   \n",
       "1     HG01361_hprc_h2           128225         14977            8097   \n",
       "2     NA20129_hprc_h1           130946         15329            8097   \n",
       "3     HG02486_hprc_h1           130300         15309            8097   \n",
       "4    HG02587_hgsvc_h2           126819         14914            8097   \n",
       "..                ...              ...           ...             ...   \n",
       "143   HG02572_hprc_h2           124641         14532            8097   \n",
       "144   HG01361_hprc_h1           129433         15166            8097   \n",
       "145   HG02080_hprc_h1           131764         15474            8097   \n",
       "146   NA20129_hprc_h2           131247         15440            8097   \n",
       "147   HG02486_hprc_h2           125459         14671            8097   \n",
       "\n",
       "     greedy_better  greedy_better20  vamos_better20_ratio  \\\n",
       "0            13680             6308              0.061422   \n",
       "1            13317             6308              0.063147   \n",
       "2            13565             6308              0.061835   \n",
       "3            13611             6308              0.062141   \n",
       "4            13361             6308              0.063847   \n",
       "..             ...              ...                   ...   \n",
       "143          12993             6308              0.064963   \n",
       "144          13367             6308              0.062557   \n",
       "145          13687             6308              0.061451   \n",
       "146          13686             6308              0.061693   \n",
       "147          13117             6308              0.064539   \n",
       "\n",
       "     greedy_better20_ratio  \n",
       "0                 0.047851  \n",
       "1                 0.049195  \n",
       "2                 0.048173  \n",
       "3                 0.048411  \n",
       "4                 0.049740  \n",
       "..                     ...  \n",
       "143               0.050609  \n",
       "144               0.048736  \n",
       "145               0.047873  \n",
       "146               0.048062  \n",
       "147               0.050279  \n",
       "\n",
       "[148 rows x 8 columns]"
      ]
     },
     "execution_count": 161,
     "metadata": {},
     "output_type": "execute_result"
    }
   ],
   "source": [
    "df"
   ]
  },
  {
   "cell_type": "code",
   "execution_count": 162,
   "id": "755cf2e9-802e-4f69-9627-4e03375c4b5b",
   "metadata": {},
   "outputs": [
    {
     "data": {
      "text/plain": [
       "0.06266539016735291"
      ]
     },
     "execution_count": 162,
     "metadata": {},
     "output_type": "execute_result"
    }
   ],
   "source": [
    "df['vamos_better20_ratio'].mean()"
   ]
  },
  {
   "cell_type": "code",
   "execution_count": 163,
   "id": "1bb515f9-c760-43e4-a797-20adb36db529",
   "metadata": {},
   "outputs": [
    {
     "data": {
      "text/plain": [
       "0.04881972102947538"
      ]
     },
     "execution_count": 163,
     "metadata": {},
     "output_type": "execute_result"
    }
   ],
   "source": [
    "df['greedy_better20_ratio'].mean()"
   ]
  },
  {
   "cell_type": "code",
   "execution_count": 164,
   "id": "37d8a7e0-e3d2-4282-8dd9-4dd011103c5a",
   "metadata": {},
   "outputs": [
    {
     "data": {
      "text/plain": [
       "annotated_vntrs          129243.398649\n",
       "vamos_better              15170.513514\n",
       "vamos_better20             8097.000000\n",
       "greedy_better             13479.831081\n",
       "greedy_better20            6308.000000\n",
       "vamos_better20_ratio          0.062665\n",
       "greedy_better20_ratio         0.048820\n",
       "dtype: float64"
      ]
     },
     "execution_count": 164,
     "metadata": {},
     "output_type": "execute_result"
    }
   ],
   "source": [
    "df.mean(axis = 0)"
   ]
  },
  {
   "cell_type": "code",
   "execution_count": 165,
   "id": "e2439ea0-ff93-4edc-99a7-030e1cfde16d",
   "metadata": {},
   "outputs": [
    {
     "data": {
      "text/plain": [
       "annotated_vntrs          2071.502458\n",
       "vamos_better              236.943562\n",
       "vamos_better20              0.000000\n",
       "greedy_better             206.881358\n",
       "greedy_better20             0.000000\n",
       "vamos_better20_ratio        0.001015\n",
       "greedy_better20_ratio       0.000791\n",
       "dtype: float64"
      ]
     },
     "execution_count": 165,
     "metadata": {},
     "output_type": "execute_result"
    }
   ],
   "source": [
    "df.std()"
   ]
  },
  {
   "cell_type": "code",
   "execution_count": 166,
   "id": "d1f0e0d9-ee2b-47a8-8c6e-667b89ee74be",
   "metadata": {},
   "outputs": [
    {
     "data": {
      "text/plain": [
       "1.2835927898402293"
      ]
     },
     "execution_count": 166,
     "metadata": {},
     "output_type": "execute_result"
    }
   ],
   "source": [
    "0.062665 / 0.048820"
   ]
  }
 ],
 "metadata": {
  "kernelspec": {
   "display_name": "Python 3",
   "language": "python",
   "name": "python3"
  },
  "language_info": {
   "codemirror_mode": {
    "name": "ipython",
    "version": 3
   },
   "file_extension": ".py",
   "mimetype": "text/x-python",
   "name": "python",
   "nbconvert_exporter": "python",
   "pygments_lexer": "ipython3",
   "version": "3.7.10"
  }
 },
 "nbformat": 4,
 "nbformat_minor": 5
}
